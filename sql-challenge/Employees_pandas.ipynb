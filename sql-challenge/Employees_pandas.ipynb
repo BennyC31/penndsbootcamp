{
 "cells": [
  {
   "cell_type": "code",
   "execution_count": 1,
   "id": "7206037a-d08d-4351-a09b-7cff7b85534a",
   "metadata": {},
   "outputs": [],
   "source": [
    "# Pandas\n",
    "import pandas as pd\n",
    "from sqlalchemy import create_engine\n",
    "from sql_config import user_name,password,host_name,db_name\n",
    "\n",
    "engine = create_engine(f'postgresql+psycopg2://{user_name}:{password}@{host_name}:5432/{db_name}')\n",
    "connection = engine.connect()\n"
   ]
  },
  {
   "cell_type": "code",
   "execution_count": 2,
   "id": "fc7c8831-5f6b-4db8-ace0-fe2f27a6fa5c",
   "metadata": {},
   "outputs": [],
   "source": [
    "data = pd.read_sql(f\"select e.first_name, e.last_name, e.sex from employees e \", connection)"
   ]
  },
  {
   "cell_type": "code",
   "execution_count": 3,
   "id": "866afec1-3f57-43e9-be0e-24601f85cfb5",
   "metadata": {},
   "outputs": [
    {
     "data": {
      "text/html": [
       "<div>\n",
       "<style scoped>\n",
       "    .dataframe tbody tr th:only-of-type {\n",
       "        vertical-align: middle;\n",
       "    }\n",
       "\n",
       "    .dataframe tbody tr th {\n",
       "        vertical-align: top;\n",
       "    }\n",
       "\n",
       "    .dataframe thead th {\n",
       "        text-align: right;\n",
       "    }\n",
       "</style>\n",
       "<table border=\"1\" class=\"dataframe\">\n",
       "  <thead>\n",
       "    <tr style=\"text-align: right;\">\n",
       "      <th></th>\n",
       "      <th>first_name</th>\n",
       "      <th>last_name</th>\n",
       "      <th>sex</th>\n",
       "    </tr>\n",
       "  </thead>\n",
       "  <tbody>\n",
       "    <tr>\n",
       "      <th>0</th>\n",
       "      <td>Hideyuki</td>\n",
       "      <td>Zallocco</td>\n",
       "      <td>M</td>\n",
       "    </tr>\n",
       "    <tr>\n",
       "      <th>1</th>\n",
       "      <td>Byong</td>\n",
       "      <td>Delgrande</td>\n",
       "      <td>F</td>\n",
       "    </tr>\n",
       "    <tr>\n",
       "      <th>2</th>\n",
       "      <td>Berry</td>\n",
       "      <td>Babb</td>\n",
       "      <td>F</td>\n",
       "    </tr>\n",
       "    <tr>\n",
       "      <th>3</th>\n",
       "      <td>Xiong</td>\n",
       "      <td>Verhoeff</td>\n",
       "      <td>M</td>\n",
       "    </tr>\n",
       "    <tr>\n",
       "      <th>4</th>\n",
       "      <td>Abdelkader</td>\n",
       "      <td>Baumann</td>\n",
       "      <td>F</td>\n",
       "    </tr>\n",
       "  </tbody>\n",
       "</table>\n",
       "</div>"
      ],
      "text/plain": [
       "   first_name  last_name sex\n",
       "0    Hideyuki   Zallocco   M\n",
       "1       Byong  Delgrande   F\n",
       "2       Berry       Babb   F\n",
       "3       Xiong   Verhoeff   M\n",
       "4  Abdelkader    Baumann   F"
      ]
     },
     "execution_count": 3,
     "metadata": {},
     "output_type": "execute_result"
    }
   ],
   "source": [
    "data.head()"
   ]
  },
  {
   "cell_type": "code",
   "execution_count": 4,
   "id": "936a7b77-ec6a-49a6-8e6a-c38e75ac7ab1",
   "metadata": {},
   "outputs": [
    {
     "data": {
      "text/plain": [
       "300024"
      ]
     },
     "execution_count": 4,
     "metadata": {},
     "output_type": "execute_result"
    }
   ],
   "source": [
    "len(data)"
   ]
  },
  {
   "cell_type": "code",
   "execution_count": 5,
   "id": "27571f60-3e0e-402e-9f22-d6ae5cce9564",
   "metadata": {},
   "outputs": [
    {
     "data": {
      "text/html": [
       "<div>\n",
       "<style scoped>\n",
       "    .dataframe tbody tr th:only-of-type {\n",
       "        vertical-align: middle;\n",
       "    }\n",
       "\n",
       "    .dataframe tbody tr th {\n",
       "        vertical-align: top;\n",
       "    }\n",
       "\n",
       "    .dataframe thead th {\n",
       "        text-align: right;\n",
       "    }\n",
       "</style>\n",
       "<table border=\"1\" class=\"dataframe\">\n",
       "  <thead>\n",
       "    <tr style=\"text-align: right;\">\n",
       "      <th></th>\n",
       "      <th>emp_no</th>\n",
       "      <th>last_name</th>\n",
       "      <th>first_name</th>\n",
       "      <th>salary</th>\n",
       "    </tr>\n",
       "  </thead>\n",
       "  <tbody>\n",
       "    <tr>\n",
       "      <th>0</th>\n",
       "      <td>205000</td>\n",
       "      <td>Griswold</td>\n",
       "      <td>Charmane</td>\n",
       "      <td>129492.0</td>\n",
       "    </tr>\n",
       "    <tr>\n",
       "      <th>1</th>\n",
       "      <td>44188</td>\n",
       "      <td>Peac</td>\n",
       "      <td>Slavian</td>\n",
       "      <td>127238.0</td>\n",
       "    </tr>\n",
       "    <tr>\n",
       "      <th>2</th>\n",
       "      <td>444756</td>\n",
       "      <td>Varker</td>\n",
       "      <td>Nahid</td>\n",
       "      <td>127041.0</td>\n",
       "    </tr>\n",
       "    <tr>\n",
       "      <th>3</th>\n",
       "      <td>458302</td>\n",
       "      <td>Esposito</td>\n",
       "      <td>Poorav</td>\n",
       "      <td>126703.0</td>\n",
       "    </tr>\n",
       "    <tr>\n",
       "      <th>4</th>\n",
       "      <td>37558</td>\n",
       "      <td>Thambidurai</td>\n",
       "      <td>Juichirou</td>\n",
       "      <td>125469.0</td>\n",
       "    </tr>\n",
       "  </tbody>\n",
       "</table>\n",
       "</div>"
      ],
      "text/plain": [
       "   emp_no    last_name first_name    salary\n",
       "0  205000     Griswold   Charmane  129492.0\n",
       "1   44188         Peac    Slavian  127238.0\n",
       "2  444756       Varker      Nahid  127041.0\n",
       "3  458302     Esposito     Poorav  126703.0\n",
       "4   37558  Thambidurai  Juichirou  125469.0"
      ]
     },
     "execution_count": 5,
     "metadata": {},
     "output_type": "execute_result"
    }
   ],
   "source": [
    "emp_salary = pd.read_sql(f\"select * from penn_info.employee_salary_view \", connection)\n",
    "emp_salary.head()"
   ]
  },
  {
   "cell_type": "code",
   "execution_count": 6,
   "id": "dbd5c096-444f-48b2-adfc-fa76c91dc357",
   "metadata": {},
   "outputs": [
    {
     "data": {
      "image/png": "[encoded data removed]",
      "text/plain": [
       "<Figure size 432x288 with 1 Axes>"
      ]
     },
     "metadata": {
      "needs_background": "light"
     },
     "output_type": "display_data"
    }
   ],
   "source": [
    "df_sal = emp_salary['salary']\n",
    "df = pd.DataFrame(df_sal)\n",
    "ax = df.plot.hist(bins=10, alpha=.5)"
   ]
  },
  {
   "cell_type": "code",
   "execution_count": 7,
   "id": "d5de3621-d6de-4e28-9204-8cf2d45c4bb3",
   "metadata": {},
   "outputs": [
    {
     "data": {
      "text/html": [
       "<div>\n",
       "<style scoped>\n",
       "    .dataframe tbody tr th:only-of-type {\n",
       "        vertical-align: middle;\n",
       "    }\n",
       "\n",
       "    .dataframe tbody tr th {\n",
       "        vertical-align: top;\n",
       "    }\n",
       "\n",
       "    .dataframe thead th {\n",
       "        text-align: right;\n",
       "    }\n",
       "</style>\n",
       "<table border=\"1\" class=\"dataframe\">\n",
       "  <thead>\n",
       "    <tr style=\"text-align: right;\">\n",
       "      <th></th>\n",
       "      <th>emp_no</th>\n",
       "      <th>last_name</th>\n",
       "      <th>first_name</th>\n",
       "      <th>title</th>\n",
       "      <th>salary</th>\n",
       "    </tr>\n",
       "  </thead>\n",
       "  <tbody>\n",
       "    <tr>\n",
       "      <th>0</th>\n",
       "      <td>10405</td>\n",
       "      <td>Budinsky</td>\n",
       "      <td>Hilary</td>\n",
       "      <td>Assistant Engineer</td>\n",
       "      <td>40000.0</td>\n",
       "    </tr>\n",
       "    <tr>\n",
       "      <th>1</th>\n",
       "      <td>10719</td>\n",
       "      <td>Karunanithi</td>\n",
       "      <td>Guenter</td>\n",
       "      <td>Assistant Engineer</td>\n",
       "      <td>40000.0</td>\n",
       "    </tr>\n",
       "    <tr>\n",
       "      <th>2</th>\n",
       "      <td>10755</td>\n",
       "      <td>Ressouche</td>\n",
       "      <td>Odysseas</td>\n",
       "      <td>Assistant Engineer</td>\n",
       "      <td>40000.0</td>\n",
       "    </tr>\n",
       "    <tr>\n",
       "      <th>3</th>\n",
       "      <td>11101</td>\n",
       "      <td>Horswill</td>\n",
       "      <td>Manibrata</td>\n",
       "      <td>Assistant Engineer</td>\n",
       "      <td>40000.0</td>\n",
       "    </tr>\n",
       "    <tr>\n",
       "      <th>4</th>\n",
       "      <td>11316</td>\n",
       "      <td>Farrar</td>\n",
       "      <td>Ult</td>\n",
       "      <td>Assistant Engineer</td>\n",
       "      <td>40000.0</td>\n",
       "    </tr>\n",
       "  </tbody>\n",
       "</table>\n",
       "</div>"
      ],
      "text/plain": [
       "   emp_no    last_name first_name               title   salary\n",
       "0   10405     Budinsky     Hilary  Assistant Engineer  40000.0\n",
       "1   10719  Karunanithi    Guenter  Assistant Engineer  40000.0\n",
       "2   10755    Ressouche   Odysseas  Assistant Engineer  40000.0\n",
       "3   11101     Horswill  Manibrata  Assistant Engineer  40000.0\n",
       "4   11316       Farrar        Ult  Assistant Engineer  40000.0"
      ]
     },
     "execution_count": 7,
     "metadata": {},
     "output_type": "execute_result"
    }
   ],
   "source": [
    "emp_title_salary = pd.read_sql(f\"select * from penn_info.employee_salary_by_title_view \", connection)\n",
    "emp_title_salary.head()"
   ]
  },
  {
   "cell_type": "code",
   "execution_count": 8,
   "id": "de537189-7c30-4446-8406-02ed5e6e186c",
   "metadata": {},
   "outputs": [
    {
     "data": {
      "image/png": "[encoded data removed]",
      "text/plain": [
       "<Figure size 432x288 with 1 Axes>"
      ]
     },
     "metadata": {
      "needs_background": "light"
     },
     "output_type": "display_data"
    }
   ],
   "source": [
    "df_avg_sal = emp_title_salary\n",
    "df_avg_sal = df_avg_sal.groupby([\"title\"]).mean()[\"salary\"]\n",
    "df_avg_sal = pd.DataFrame(df_avg_sal)\n",
    "df_avg_sal = df_avg_sal.reset_index().sort_values('salary', ascending=False)\n",
    "df = df_avg_sal\n",
    "ax = df.plot.bar(x='title', y='salary', rot=90)"
   ]
  },
  {
   "cell_type": "code",
   "execution_count": null,
   "id": "abcbdf1e-d9ef-48e1-9459-86a0190e601c",
   "metadata": {},
   "outputs": [],
   "source": []
  }
 ],
 "metadata": {
  "kernelspec": {
   "display_name": "PythonData",
   "language": "python",
   "name": "pythondata"
  },
  "language_info": {
   "codemirror_mode": {
    "name": "ipython",
    "version": 3
   },
   "file_extension": ".py",
   "mimetype": "text/x-python",
   "name": "python",
   "nbconvert_exporter": "python",
   "pygments_lexer": "ipython3",
   "version": "3.7.7"
  }
 },
 "nbformat": 4,
 "nbformat_minor": 5
}
